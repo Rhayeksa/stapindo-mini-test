{
 "cells": [
  {
   "cell_type": "markdown",
   "metadata": {},
   "source": [
    "# Mini Test"
   ]
  },
  {
   "cell_type": "code",
   "execution_count": 125,
   "metadata": {},
   "outputs": [],
   "source": [
    "import numpy as np\n",
    "import sympy\n",
    "import requests\n",
    "from datetime import datetime"
   ]
  },
  {
   "cell_type": "markdown",
   "metadata": {},
   "source": [
    "## 1. Program Kecil"
   ]
  },
  {
   "cell_type": "code",
   "execution_count": 126,
   "metadata": {},
   "outputs": [
    {
     "name": "stdout",
     "output_type": "stream",
     "text": [
      "['Bar' 'Foo' '98' 'Foo' 'Bar' '94' 'Foo' '92' '91' 'FooBar' '88' 'Foo'\n",
      " '86' 'Bar' 'Foo' '82' 'Foo' 'Bar' 'Foo' '77' '76' 'FooBar' '74' 'Foo'\n",
      " 'Bar' 'Foo' '68' 'Foo' 'Bar' '64' 'Foo' '62' 'FooBar' '58' 'Foo' '56'\n",
      " 'Bar' 'Foo' '52' 'Foo' 'Bar' '49' 'Foo' '46' 'FooBar' '44' 'Foo' 'Bar'\n",
      " 'Foo' '38' 'Foo' 'Bar' '34' 'Foo' '32' 'FooBar' '28' 'Foo' '26' 'Bar'\n",
      " 'Foo' '22' 'Foo' 'Bar' 'Foo' '16' 'FooBar' '14' 'Foo' 'Bar' 'Foo' '8'\n",
      " 'Foo' '4' '1']\n"
     ]
    }
   ],
   "source": [
    "num = 100\n",
    "\n",
    "range_num = np.arange(start=1, stop=num+1)\n",
    "result = np.empty(shape=(0, 3), dtype=int)\n",
    "\n",
    "for i in range_num[::-1]:\n",
    "    if sympy.isprime(i):\n",
    "        pass\n",
    "    elif i % 3 == 0 and i % 5 == 0:\n",
    "        result = np.append(arr=result, values=[\"FooBar\"])\n",
    "    elif i % 3 == 0:\n",
    "        result = np.append(arr=result, values=[\"Foo\"])\n",
    "    elif i % 5 == 0:\n",
    "        result = np.append(arr=result, values=[\"Bar\"])\n",
    "    else:\n",
    "        result = np.append(arr=result, values=i)\n",
    "\n",
    "print(result)"
   ]
  },
  {
   "cell_type": "markdown",
   "metadata": {},
   "source": [
    "## 2. Menampilkan ramalan cuaca kota Jakarta untuk 5 hari kedepan"
   ]
  },
  {
   "cell_type": "code",
   "execution_count": 128,
   "metadata": {},
   "outputs": [
    {
     "name": "stdout",
     "output_type": "stream",
     "text": [
      "Weather Forecast:\n",
      "Sun, 02 Jun 2024: 27.38°C\n",
      "Mon, 03 Jun 2024: 27.14°C\n",
      "Tue, 04 Jun 2024: 27°C\n",
      "Wed, 05 Jun 2024: 25.93°C\n",
      "Thu, 06 Jun 2024: 25.18°C\n"
     ]
    }
   ],
   "source": [
    "token = \"9daea6f1f8e39175da60123c648321a0\"\n",
    "url = f\"https://api.openweathermap.org/data/2.5/forecast?q=Jakarta&appid={token}&units=metric\"\n",
    "dayadd = 0\n",
    "try:\n",
    "  response = requests.get(url=url)\n",
    "  print(\"Weather Forecast:\")\n",
    "  for i in response.json()[\"list\"]:\n",
    "    if datetime.strptime(i[\"dt_txt\"], \"%Y-%m-%d %H:%M:%S\").strftime(\"%H\") == \"00\":\n",
    "      date5 = datetime.strptime(i[\"dt_txt\"], \"%Y-%m-%d %H:%M:%S\").strftime(\"%a, %d %b %Y\")\n",
    "      temp = i[\"main\"][\"temp\"]\n",
    "      print(f\"{date5}: {temp}°C\")\n",
    "except Exception as e:\n",
    "  print('Error message: ', e)"
   ]
  }
 ],
 "metadata": {
  "kernelspec": {
   "display_name": ".venv",
   "language": "python",
   "name": "python3"
  },
  "language_info": {
   "codemirror_mode": {
    "name": "ipython",
    "version": 3
   },
   "file_extension": ".py",
   "mimetype": "text/x-python",
   "name": "python",
   "nbconvert_exporter": "python",
   "pygments_lexer": "ipython3",
   "version": "3.11.9"
  }
 },
 "nbformat": 4,
 "nbformat_minor": 2
}
